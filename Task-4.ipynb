{
 "cells": [
  {
   "cell_type": "code",
   "execution_count": null,
   "id": "c3333c19-cbe6-45f7-8b62-78ab61618c8a",
   "metadata": {},
   "outputs": [],
   "source": [
    "import pandas as pd\n",
    "from sklearn.model_selection import train_test_split\n",
    "from sklearn.metrics.pairwise import cosine_similarity\n",
    "from sklearn.metrics import mean_squared_error\n",
    "import numpy as np\n",
    "\n",
    "# Load dataset\n",
    "ratings = pd.read_csv('movie_ratings.csv')  # Assumed to have columns: user_id, movie_id, rating\n",
    "\n",
    "# Create a user-item matrix\n",
    "user_item_matrix = ratings.pivot(index='user_id', columns='movie_id', values='rating').fillna(0)\n",
    "\n",
    "# Split data into training and test sets\n",
    "train_data, test_data = train_test_split(ratings, test_size=0.2, random_state=42)\n",
    "train_matrix = train_data.pivot(index='user_id', columns='movie_id', values='rating').fillna(0)\n",
    "test_matrix = test_data.pivot(index='user_id', columns='movie_id', values='rating').fillna(0)\n"
   ]
  },
  {
   "cell_type": "code",
   "execution_count": null,
   "id": "4fef4407-add7-492b-b5e4-544604dc4dec",
   "metadata": {},
   "outputs": [],
   "source": [
    "## compute similarities"
   ]
  },
  {
   "cell_type": "code",
   "execution_count": null,
   "id": "5c61e391-3e14-4dd1-88c3-e6c2a23740bf",
   "metadata": {},
   "outputs": [],
   "source": [
    "# Compute user-user similarity matrix\n",
    "user_similarity = cosine_similarity(train_matrix)\n",
    "user_similarity_df = pd.DataFrame(user_similarity, index=train_matrix.index, columns=train_matrix.index)\n",
    "\n",
    "print(user_similarity_df.head())  # Display a part of the similarity matrix\n"
   ]
  },
  {
   "cell_type": "code",
   "execution_count": null,
   "id": "87b3e15c-9d63-4f1a-a6a8-2d1ce5d0e816",
   "metadata": {},
   "outputs": [],
   "source": [
    "## predict ratings"
   ]
  },
  {
   "cell_type": "code",
   "execution_count": null,
   "id": "f9830456-79b7-4a1c-b8db-b5faad0aaa5f",
   "metadata": {},
   "outputs": [],
   "source": [
    "# Function to predict ratings\n",
    "def predict_ratings(user_item_matrix, user_similarity):\n",
    "    mean_user_rating = user_item_matrix.mean(axis=1)\n",
    "    ratings_diff = (user_item_matrix.T - mean_user_rating).T\n",
    "    pred = mean_user_rating[:, np.newaxis] + user_similarity.dot(ratings_diff) / np.array([np.abs(user_similarity).sum(axis=1)]).T\n",
    "    return pred\n",
    "\n",
    "# Predict ratings\n",
    "predictions = predict_ratings(train_matrix.values, user_similarity)\n",
    "\n",
    "# Convert predictions back to a DataFrame\n",
    "predictions_df = pd.DataFrame(predictions, index=train_matrix.index, columns=train_matrix.columns)\n",
    "print(predictions_df.head())\n"
   ]
  },
  {
   "cell_type": "code",
   "execution_count": null,
   "id": "9d5cf857-4998-4c18-a3b5-0398356ad504",
   "metadata": {},
   "outputs": [],
   "source": [
    "## recommend movie"
   ]
  },
  {
   "cell_type": "code",
   "execution_count": null,
   "id": "6f791b7b-0b42-4281-a245-b6c46d074d1d",
   "metadata": {},
   "outputs": [],
   "source": [
    "def recommend_movies(user_id, predictions_df, user_item_matrix, n=5):\n",
    "    user_ratings = user_item_matrix.loc[user_id, :]\n",
    "    predicted_ratings = predictions_df.loc[user_id, :]\n",
    "    \n",
    "    # Recommend movies that the user hasn't rated yet\n",
    "    recommended_movies = predicted_ratings[user_ratings == 0].sort_values(ascending=False).head(n)\n",
    "    return recommended_movies\n",
    "\n",
    "# Example: Recommend movies for user_id 1\n",
    "recommendations = recommend_movies(user_id=1, predictions_df=predictions_df, user_item_matrix=user_item_matrix)\n",
    "print(\"Recommended Movies:\\n\", recommendations)\n"
   ]
  },
  {
   "cell_type": "code",
   "execution_count": null,
   "id": "d88fe412-7daa-435c-9269-c36ef5c6122b",
   "metadata": {},
   "outputs": [],
   "source": [
    "## Content-Based Filtering Approach"
   ]
  },
  {
   "cell_type": "code",
   "execution_count": null,
   "id": "2138c43b-335f-4d97-9643-e06480dda3a2",
   "metadata": {},
   "outputs": [],
   "source": [
    "# Example movie dataset\n",
    "movies = pd.read_csv('movies.csv')  # Columns: movie_id, title, genre, director, etc.\n",
    "\n",
    "# Example user preferences (assumed to be ratings)\n",
    "user_preferences = {\n",
    "    'Action': 5,\n",
    "    'Comedy': 3,\n",
    "    'Drama': 2\n",
    "}\n",
    "\n",
    "# Feature extraction (using genres as an example)\n",
    "movies['genre_vector'] = movies['genre'].apply(lambda x: [1 if genre in x.split(',') else 0 for genre in user_preferences.keys()])\n"
   ]
  },
  {
   "cell_type": "code",
   "execution_count": null,
   "id": "39115f9b-9e09-4460-af70-4434cd94c7d4",
   "metadata": {},
   "outputs": [],
   "source": [
    "## calculate similarities"
   ]
  },
  {
   "cell_type": "code",
   "execution_count": null,
   "id": "987b796c-9eaa-4deb-a69a-e8fe7a08a2ff",
   "metadata": {},
   "outputs": [],
   "source": []
  }
 ],
 "metadata": {
  "kernelspec": {
   "display_name": "Python 3 (ipykernel)",
   "language": "python",
   "name": "python3"
  },
  "language_info": {
   "codemirror_mode": {
    "name": "ipython",
    "version": 3
   },
   "file_extension": ".py",
   "mimetype": "text/x-python",
   "name": "python",
   "nbconvert_exporter": "python",
   "pygments_lexer": "ipython3",
   "version": "3.11.7"
  }
 },
 "nbformat": 4,
 "nbformat_minor": 5
}

{
 "cells": [
  {
   "cell_type": "code",
   "execution_count": null,
   "id": "53876db4-131c-46c0-a8fd-35a589e5eef0",
   "metadata": {},
   "outputs": [],
   "source": [
    "##  Face Detection"
   ]
  },
  {
   "cell_type": "code",
   "execution_count": null,
   "id": "1886f48c-156e-4392-95e7-48fd4f03f73b",
   "metadata": {},
   "outputs": [],
   "source": [
    "import cv2\n",
    "\n",
    "# Load the pre-trained Haar cascade model for face detection\n",
    "face_cascade = cv2.CascadeClassifier(cv2.data.haarcascades + 'haarcascade_frontalface_default.xml')\n",
    "\n",
    "# Read an image\n",
    "img = cv2.imread('face.jpg')\n",
    "gray = cv2.cvtColor(img, cv2.COLOR_BGR2GRAY)\n",
    "\n",
    "# Detect faces\n",
    "faces = face_cascade.detectMultiScale(gray, scaleFactor=1.1, minNeighbors=5, minSize=(30, 30))\n",
    "\n",
    "# Draw rectangles around detected faces\n",
    "for (x, y, w, h) in faces:\n",
    "    cv2.rectangle(img, (x, y), (x + w, y + h), (255, 0, 0), 2)\n",
    "\n",
    "# Display the image\n",
    "cv2.imshow('Face Detection', img)\n",
    "cv2.waitKey(0)\n",
    "cv2.destroyAllWindows()\n"
   ]
  },
  {
   "cell_type": "code",
   "execution_count": null,
   "id": "1a9e6048-6f70-4ff8-9413-9fb572297883",
   "metadata": {},
   "outputs": [],
   "source": [
    "import dlib\n",
    "import cv2\n",
    "\n",
    "# Initialize dlib's face detector (HOG-based)\n",
    "detector = dlib.get_frontal_face_detector()\n",
    "\n",
    "# Load image\n",
    "img = cv2.imread('face.jpg')\n",
    "gray = cv2.cvtColor(img, cv2.COLOR_BGR2GRAY)\n",
    "\n",
    "# Detect faces\n",
    "faces = detector(gray)\n",
    "\n",
    "# Draw rectangles around detected faces\n",
    "for face in faces:\n",
    "    x, y, w, h = face.left(), face.top(), face.width(), face.height()\n",
    "    cv2.rectangle(img, (x, y), (x + w, y + h), (0, 255, 0), 2)\n",
    "\n",
    "# Display the image\n",
    "cv2.imshow('Face Detection', img)\n",
    "cv2.waitKey(0)\n",
    "cv2.destroyAllWindows()\n"
   ]
  },
  {
   "cell_type": "code",
   "execution_count": null,
   "id": "0a7ac1c1-33ec-4ead-84d2-07b32310a3f0",
   "metadata": {},
   "outputs": [],
   "source": [
    "##  Face Recognition"
   ]
  },
  {
   "cell_type": "code",
   "execution_count": null,
   "id": "698abc4f-5f35-4e81-b911-96ae68ab5eb7",
   "metadata": {},
   "outputs": [],
   "source": [
    "import face_recognition\n",
    "\n",
    "# Load images of known faces\n",
    "known_image_1 = face_recognition.load_image_file(\"person_1.jpg\")\n",
    "known_image_2 = face_recognition.load_image_file(\"person_2.jpg\")\n",
    "\n",
    "# Get face encodings\n",
    "known_encoding_1 = face_recognition.face_encodings(known_image_1)[0]\n",
    "known_encoding_2 = face_recognition.face_encodings(known_image_2)[0]\n",
    "\n",
    "# Store encodings and corresponding names\n",
    "known_face_encodings = [known_encoding_1, known_encoding_2]\n",
    "known_face_names = [\"Person 1\", \"Person 2\"]\n"
   ]
  },
  {
   "cell_type": "code",
   "execution_count": null,
   "id": "48bc2675-8dba-4635-a6b6-a732c365091b",
   "metadata": {},
   "outputs": [],
   "source": [
    "# Load the unknown image\n",
    "unknown_image = face_recognition.load_image_file(\"unknown.jpg\")\n",
    "\n",
    "# Find all face locations and face encodings in the unknown image\n",
    "face_locations = face_recognition.face_locations(unknown_image)\n",
    "face_encodings = face_recognition.face_encodings(unknown_image, face_locations)\n",
    "\n",
    "# Convert image to RGB (since OpenCV uses BGR by default)\n",
    "img = cv2.cvtColor(unknown_image, cv2.COLOR_BGR2RGB)\n",
    "\n",
    "# Loop through each detected face\n",
    "for (top, right, bottom, left), face_encoding in zip(face_locations, face_encodings):\n",
    "    # Check if the face matches any known faces\n",
    "    matches = face_recognition.compare_faces(known_face_encodings, face_encoding)\n",
    "    name = \"Unknown\"\n",
    "\n",
    "    # If a match is found, use the name of the first match\n",
    "    if True in matches:\n",
    "        first_match_index = matches.index(True)\n",
    "        name = known_face_names[first_match_index]\n",
    "\n",
    "    # Draw a rectangle around the face and add the name\n",
    "    cv2.rectangle(img, (left, top), (right, bottom), (0, 255, 0), 2)\n",
    "    cv2.putText(img, name, (left, top - 10), cv2.FONT_HERSHEY_SIMPLEX, 0.9, (0, 255, 0), 2)\n",
    "\n",
    "# Display the image\n",
    "cv2.imshow('Face Recognition', img)\n",
    "cv2.waitKey(0)\n",
    "cv2.destroyAllWindows()\n"
   ]
  },
  {
   "cell_type": "code",
   "execution_count": null,
   "id": "7f773fe8-8430-405b-9515-3f6a58c3ee05",
   "metadata": {},
   "outputs": [],
   "source": [
    "##  Real-Time Face Detection and Recognition"
   ]
  },
  {
   "cell_type": "code",
   "execution_count": null,
   "id": "050cd1b7-e46c-4d4e-8589-2895dc4241f6",
   "metadata": {},
   "outputs": [],
   "source": [
    "# Access the webcam\n",
    "video_capture = cv2.VideoCapture(0)\n",
    "\n",
    "while True:\n",
    "    # Capture frame-by-frame\n",
    "    ret, frame = video_capture.read()\n",
    "    \n",
    "    # Convert the image from BGR to RGB\n",
    "    rgb_frame = frame[:, :, ::-1]\n",
    "    \n",
    "    # Detect and recognize faces\n",
    "    face_locations = face_recognition.face_locations(rgb_frame)\n",
    "    face_encodings = face_recognition.face_encodings(rgb_frame, face_locations)\n",
    "    \n",
    "    for (top, right, bottom, left), face_encoding in zip(face_locations, face_encodings):\n",
    "        matches = face_recognition.compare_faces(known_face_encodings, face_encoding)\n",
    "        name = \"Unknown\"\n",
    "        \n",
    "        if True in matches:\n",
    "            first_match_index = matches.index(True)\n",
    "            name = known_face_names[first_match_index]\n",
    "        \n",
    "        # Draw a rectangle around the face\n",
    "        cv2.rectangle(frame, (left, top), (right, bottom), (0, 255, 0), 2)\n",
    "        cv2.putText(frame, name, (left, top - 10), cv2.FONT_HERSHEY_SIMPLEX, 0.9, (0, 255, 0), 2)\n",
    "    \n",
    "    # Display the resulting frame\n",
    "    cv2.imshow('Video', frame)\n",
    "    \n",
    "    # Break the loop when 'q' is pressed\n",
    "    if cv2.waitKey(1) & 0xFF == ord('q'):\n",
    "        break\n",
    "\n",
    "# Release the capture and close the window\n",
    "video_capture.release()\n",
    "cv2.destroyAllWindows()\n"
   ]
  },
  {
   "cell_type": "code",
   "execution_count": null,
   "id": "15972097-0f6f-495b-a16d-5ce553ed078b",
   "metadata": {},
   "outputs": [],
   "source": []
  }
 ],
 "metadata": {
  "kernelspec": {
   "display_name": "Python 3 (ipykernel)",
   "language": "python",
   "name": "python3"
  },
  "language_info": {
   "codemirror_mode": {
    "name": "ipython",
    "version": 3
   },
   "file_extension": ".py",
   "mimetype": "text/x-python",
   "name": "python",
   "nbconvert_exporter": "python",
   "pygments_lexer": "ipython3",
   "version": "3.11.7"
  }
 },
 "nbformat": 4,
 "nbformat_minor": 5
}
